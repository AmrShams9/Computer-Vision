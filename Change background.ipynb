{
 "cells": [
  {
   "cell_type": "code",
   "execution_count": 26,
   "id": "77984b30",
   "metadata": {},
   "outputs": [],
   "source": [
    "import numpy as np\n",
    "import matplotlib.image as mpimg\n",
    "import matplotlib.pyplot as plt\n",
    "import cv2 \n",
    "\n",
    "%matplotlib qt"
   ]
  },
  {
   "cell_type": "code",
   "execution_count": 27,
   "id": "03bbb395",
   "metadata": {},
   "outputs": [
    {
     "name": "stdout",
     "output_type": "stream",
     "text": [
      "This image is: <class 'numpy.ndarray'>  with dimensions: (514, 816, 3)\n"
     ]
    }
   ],
   "source": [
    "# Read in the image\n",
    "image = cv2.imread('pizza_bluescreen.jpg')\n",
    "\n",
    "# Print out the type of image data and its dimensions (height, width, and color)\n",
    "print('This image is:', type(image), \n",
    "      ' with dimensions:', image.shape)"
   ]
  },
  {
   "cell_type": "code",
   "execution_count": 28,
   "id": "ec5e546d",
   "metadata": {},
   "outputs": [
    {
     "data": {
      "text/plain": [
       "<matplotlib.image.AxesImage at 0x1c9ee3a34c0>"
      ]
     },
     "execution_count": 28,
     "metadata": {},
     "output_type": "execute_result"
    }
   ],
   "source": [
    "# Make a copy of the image\n",
    "image_copy = np.copy(image)\n",
    "\n",
    "# Change color to RGB (from BGR)\n",
    "image_copy = cv2.cvtColor(image_copy, cv2.COLOR_BGR2RGB)\n",
    "\n",
    "# Display the image copy\n",
    "plt.imshow(image_copy)"
   ]
  },
  {
   "cell_type": "code",
   "execution_count": 29,
   "id": "413ab70d",
   "metadata": {},
   "outputs": [],
   "source": [
    "## TODO: Define the color selection boundaries in RGB values\n",
    "# play around with these values until you isolate the blue background\n",
    "lower_blue = np.array([0,0,200]) \n",
    "upper_blue = np.array([250,250,255])"
   ]
  },
  {
   "cell_type": "code",
   "execution_count": 30,
   "id": "51d3f7c5",
   "metadata": {},
   "outputs": [
    {
     "data": {
      "text/plain": [
       "<matplotlib.image.AxesImage at 0x1c9ee408520>"
      ]
     },
     "execution_count": 30,
     "metadata": {},
     "output_type": "execute_result"
    }
   ],
   "source": [
    "# Define the masked area\n",
    "mask = cv2.inRange(image_copy, lower_blue, upper_blue)\n",
    "\n",
    "# Vizualize the mask\n",
    "plt.imshow(mask, cmap='gray')"
   ]
  },
  {
   "cell_type": "code",
   "execution_count": 31,
   "id": "150d0ffb",
   "metadata": {},
   "outputs": [
    {
     "data": {
      "text/plain": [
       "<matplotlib.image.AxesImage at 0x1c9ee46af40>"
      ]
     },
     "execution_count": 31,
     "metadata": {},
     "output_type": "execute_result"
    }
   ],
   "source": [
    "# Mask the image to let the pizza show through\n",
    "masked_image = np.copy(image_copy)\n",
    "\n",
    "masked_image[mask != 0] = [0, 0, 0]\n",
    "\n",
    "# Display it!\n",
    "plt.imshow(masked_image)"
   ]
  },
  {
   "cell_type": "code",
   "execution_count": 32,
   "id": "4882c7ef",
   "metadata": {},
   "outputs": [
    {
     "data": {
      "text/plain": [
       "<matplotlib.image.AxesImage at 0x1c9ee616a90>"
      ]
     },
     "execution_count": 32,
     "metadata": {},
     "output_type": "execute_result"
    }
   ],
   "source": [
    "# Load in a background image, and convert it to RGB \n",
    "background_image = cv2.imread('space_background.jpg')\n",
    "background_image = cv2.cvtColor(background_image, cv2.COLOR_BGR2RGB)\n",
    "\n",
    "# Crop it to the right size (514x816)\n",
    "crop_background = background_image[0:514, 0:816]\n",
    "\n",
    "# Mask the cropped background so that the pizza area is blocked\n",
    "crop_background[mask == 0] = [0, 0, 0]\n",
    "\n",
    "# Display the background\n",
    "plt.imshow(crop_background)"
   ]
  },
  {
   "cell_type": "code",
   "execution_count": 33,
   "id": "e94f376c",
   "metadata": {},
   "outputs": [
    {
     "data": {
      "text/plain": [
       "<matplotlib.image.AxesImage at 0x1c9ee7a0a60>"
      ]
     },
     "execution_count": 33,
     "metadata": {},
     "output_type": "execute_result"
    }
   ],
   "source": [
    "# Add the two images together to create a complete image!\n",
    "complete_image = masked_image + crop_background\n",
    "\n",
    "# Display the result\n",
    "plt.imshow(complete_image)"
   ]
  },
  {
   "cell_type": "code",
   "execution_count": null,
   "id": "4fbaa51d",
   "metadata": {},
   "outputs": [],
   "source": []
  }
 ],
 "metadata": {
  "kernelspec": {
   "display_name": "Python 3 (ipykernel)",
   "language": "python",
   "name": "python3"
  },
  "language_info": {
   "codemirror_mode": {
    "name": "ipython",
    "version": 3
   },
   "file_extension": ".py",
   "mimetype": "text/x-python",
   "name": "python",
   "nbconvert_exporter": "python",
   "pygments_lexer": "ipython3",
   "version": "3.9.12"
  }
 },
 "nbformat": 4,
 "nbformat_minor": 5
}
